{
 "cells": [
  {
   "cell_type": "markdown",
   "metadata": {
    "collapsed": true
   },
   "source": [
    "# Image Classification\n",
    "In this project, you'll classify images from the [CIFAR-10 dataset](https://www.cs.toronto.edu/~kriz/cifar.html).  The dataset consists of airplanes, dogs, cats, and other objects. You'll preprocess the images, then train a convolutional neural network on all the samples. The images need to be normalized and the labels need to be one-hot encoded.  You'll get to apply what you learned and build a convolutional, max pooling, dropout, and fully connected layers.  At the end, you'll get to see your neural network's predictions on the sample images.\n",
    "## Get the Data\n",
    "Run the following cell to download the [CIFAR-10 dataset for python](https://www.cs.toronto.edu/~kriz/cifar-10-python.tar.gz)."
   ]
  },
  {
   "cell_type": "code",
   "execution_count": 1,
   "metadata": {},
   "outputs": [
    {
     "name": "stdout",
     "output_type": "stream",
     "text": [
      "All files found!\n"
     ]
    }
   ],
   "source": [
    "\"\"\"\n",
    "DON'T MODIFY ANYTHING IN THIS CELL THAT IS BELOW THIS LINE\n",
    "\"\"\"\n",
    "from urllib.request import urlretrieve\n",
    "from os.path import isfile, isdir\n",
    "from tqdm import tqdm\n",
    "import problem_unittests as tests\n",
    "import tarfile\n",
    "\n",
    "cifar10_dataset_folder_path = 'cifar-10-batches-py'\n",
    "\n",
    "# Use Floyd's cifar-10 dataset if present\n",
    "floyd_cifar10_location = '/cifar/cifar-10-python.tar.gz'\n",
    "if isfile(floyd_cifar10_location):\n",
    "    tar_gz_path = floyd_cifar10_location\n",
    "else:\n",
    "    tar_gz_path = 'cifar-10-python.tar.gz'\n",
    "\n",
    "class DLProgress(tqdm):\n",
    "    last_block = 0\n",
    "\n",
    "    def hook(self, block_num=1, block_size=1, total_size=None):\n",
    "        self.total = total_size\n",
    "        self.update((block_num - self.last_block) * block_size)\n",
    "        self.last_block = block_num\n",
    "\n",
    "if not isfile(tar_gz_path):\n",
    "    with DLProgress(unit='B', unit_scale=True, miniters=1, desc='CIFAR-10 Dataset') as pbar:\n",
    "        urlretrieve(\n",
    "            'https://www.cs.toronto.edu/~kriz/cifar-10-python.tar.gz',\n",
    "            tar_gz_path,\n",
    "            pbar.hook)\n",
    "\n",
    "if not isdir(cifar10_dataset_folder_path):\n",
    "    with tarfile.open(tar_gz_path) as tar:\n",
    "        tar.extractall()\n",
    "        tar.close()\n",
    "\n",
    "\n",
    "tests.test_folder_path(cifar10_dataset_folder_path)"
   ]
  },
  {
   "cell_type": "markdown",
   "metadata": {},
   "source": [
    "## Explore the Data\n",
    "The dataset is broken into batches to prevent your machine from running out of memory.  The CIFAR-10 dataset consists of 5 batches, named `data_batch_1`, `data_batch_2`, etc.. Each batch contains the labels and images that are one of the following:\n",
    "* airplane\n",
    "* automobile\n",
    "* bird\n",
    "* cat\n",
    "* deer\n",
    "* dog\n",
    "* frog\n",
    "* horse\n",
    "* ship\n",
    "* truck\n",
    "\n",
    "Understanding a dataset is part of making predictions on the data.  Play around with the code cell below by changing the `batch_id` and `sample_id`. The `batch_id` is the id for a batch (1-5). The `sample_id` is the id for a image and label pair in the batch.\n",
    "\n",
    "Ask yourself \"What are all possible labels?\", \"What is the range of values for the image data?\", \"Are the labels in order or random?\".  Answers to questions like these will help you preprocess the data and end up with better predictions."
   ]
  },
  {
   "cell_type": "code",
   "execution_count": 2,
   "metadata": {},
   "outputs": [
    {
     "name": "stdout",
     "output_type": "stream",
     "text": [
      "\n",
      "Stats of batch 1:\n",
      "Samples: 10000\n",
      "Label Counts: {0: 1005, 1: 974, 2: 1032, 3: 1016, 4: 999, 5: 937, 6: 1030, 7: 1001, 8: 1025, 9: 981}\n",
      "First 20 Labels: [6, 9, 9, 4, 1, 1, 2, 7, 8, 3, 4, 7, 7, 2, 9, 9, 9, 3, 2, 6]\n",
      "\n",
      "Example of Image 5:\n",
      "Image - Min Value: 0 Max Value: 252\n",
      "Image - Shape: (32, 32, 3)\n",
      "Label - Label Id: 1 Name: automobile\n"
     ]
    },
    {
     "data": {
      "image/png": "[encoded data removed]",
      "text/plain": [
       "<matplotlib.figure.Figure at 0x7f2f4d862ac8>"
      ]
     },
     "metadata": {
      "image/png": {
       "height": 250,
       "width": 253
      }
     },
     "output_type": "display_data"
    }
   ],
   "source": [
    "%matplotlib inline\n",
    "%config InlineBackend.figure_format = 'retina'\n",
    "\n",
    "import helper\n",
    "import numpy as np\n",
    "\n",
    "# Explore the dataset\n",
    "batch_id = 1\n",
    "sample_id = 5\n",
    "helper.display_stats(cifar10_dataset_folder_path, batch_id, sample_id)"
   ]
  },
  {
   "cell_type": "markdown",
   "metadata": {},
   "source": [
    "## Implement Preprocess Functions\n",
    "### Normalize\n",
    "In the cell below, implement the `normalize` function to take in image data, `x`, and return it as a normalized Numpy array. The values should be in the range of 0 to 1, inclusive.  The return object should be the same shape as `x`."
   ]
  },
  {
   "cell_type": "code",
   "execution_count": 3,
   "metadata": {},
   "outputs": [
    {
     "name": "stdout",
     "output_type": "stream",
     "text": [
      "Tests Passed\n"
     ]
    }
   ],
   "source": [
    "def normalize(x):\n",
    "    \"\"\"\n",
    "    Normalize a list of sample image data in the range of 0 to 1\n",
    "    : x: List of image data.  The image shape is (32, 32, 3)\n",
    "    : return: Numpy array of normalize data\n",
    "    \"\"\"\n",
    "    x_min = np.min(x)\n",
    "    x_max = np.max(x)\n",
    "    x_normalized = list()\n",
    "    \n",
    "    for ex in x:\n",
    "        x_normalized.append( ( ex - x_min ) / ( x_max - x_min ) )\n",
    "        \n",
    "    return np.array(x_normalized)\n",
    "\n",
    "\"\"\"\n",
    "DON'T MODIFY ANYTHING IN THIS CELL THAT IS BELOW THIS LINE\n",
    "\"\"\"\n",
    "tests.test_normalize(normalize)"
   ]
  },
  {
   "cell_type": "markdown",
   "metadata": {},
   "source": [
    "### One-hot encode\n",
    "Just like the previous code cell, you'll be implementing a function for preprocessing.  This time, you'll implement the `one_hot_encode` function. The input, `x`, are a list of labels.  Implement the function to return the list of labels as One-Hot encoded Numpy array.  The possible values for labels are 0 to 9. The one-hot encoding function should return the same encoding for each value between each call to `one_hot_encode`.  Make sure to save the map of encodings outside the function.\n",
    "\n",
    "Hint: Don't reinvent the wheel."
   ]
  },
  {
   "cell_type": "code",
   "execution_count": 4,
   "metadata": {
    "collapsed": true
   },
   "outputs": [],
   "source": [
    "def encode(x):\n",
    "    y = np.zeros(10)\n",
    "    np.put(y, x, 1)\n",
    "    return y"
   ]
  },
  {
   "cell_type": "code",
   "execution_count": 5,
   "metadata": {},
   "outputs": [
    {
     "name": "stdout",
     "output_type": "stream",
     "text": [
      "Tests Passed\n"
     ]
    }
   ],
   "source": [
    "def one_hot_encode(x):\n",
    "    \"\"\"\n",
    "    One hot encode a list of sample labels. Return a one-hot encoded vector for each label.\n",
    "    : x: List of sample Labels\n",
    "    : return: Numpy array of one-hot encoded labels\n",
    "    \"\"\"\n",
    "    one_hot = list()\n",
    "    \n",
    "    for index in x:\n",
    "        one_hot.append(encode(index))\n",
    "        \n",
    "    return np.array(one_hot)\n",
    "\n",
    "\n",
    "\"\"\"\n",
    "DON'T MODIFY ANYTHING IN THIS CELL THAT IS BELOW THIS LINE\n",
    "\"\"\"\n",
    "tests.test_one_hot_encode(one_hot_encode)"
   ]
  },
  {
   "cell_type": "markdown",
   "metadata": {},
   "source": [
    "### Randomize Data\n",
    "As you saw from exploring the data above, the order of the samples are randomized.  It doesn't hurt to randomize it again, but you don't need to for this dataset."
   ]
  },
  {
   "cell_type": "markdown",
   "metadata": {},
   "source": [
    "## Preprocess all the data and save it\n",
    "Running the code cell below will preprocess all the CIFAR-10 data and save it to file. The code below also uses 10% of the training data for validation."
   ]
  },
  {
   "cell_type": "code",
   "execution_count": 6,
   "metadata": {
    "collapsed": true
   },
   "outputs": [],
   "source": [
    "\"\"\"\n",
    "DON'T MODIFY ANYTHING IN THIS CELL\n",
    "\"\"\"\n",
    "# Preprocess Training, Validation, and Testing Data\n",
    "helper.preprocess_and_save_data(cifar10_dataset_folder_path, normalize, one_hot_encode)"
   ]
  },
  {
   "cell_type": "markdown",
   "metadata": {},
   "source": [
    "# Check Point\n",
    "This is your first checkpoint.  If you ever decide to come back to this notebook or have to restart the notebook, you can start from here.  The preprocessed data has been saved to disk."
   ]
  },
  {
   "cell_type": "code",
   "execution_count": 7,
   "metadata": {
    "collapsed": true
   },
   "outputs": [],
   "source": [
    "\"\"\"\n",
    "DON'T MODIFY ANYTHING IN THIS CELL\n",
    "\"\"\"\n",
    "import pickle\n",
    "import problem_unittests as tests\n",
    "import helper\n",
    "\n",
    "# Load the Preprocessed Validation data\n",
    "valid_features, valid_labels = pickle.load(open('preprocess_validation.p', mode='rb'))"
   ]
  },
  {
   "cell_type": "markdown",
   "metadata": {},
   "source": [
    "## Build the network\n",
    "For the neural network, you'll build each layer into a function.  Most of the code you've seen has been outside of functions. To test your code more thoroughly, we require that you put each layer in a function.  This allows us to give you better feedback and test for simple mistakes using our unittests before you submit your project.\n",
    "\n",
    ">**Note:** If you're finding it hard to dedicate enough time for this course each week, we've provided a small shortcut to this part of the project. In the next couple of problems, you'll have the option to use classes from the [TensorFlow Layers](https://www.tensorflow.org/api_docs/python/tf/layers) or [TensorFlow Layers (contrib)](https://www.tensorflow.org/api_guides/python/contrib.layers) packages to build each layer, except the layers you build in the \"Convolutional and Max Pooling Layer\" section.  TF Layers is similar to Keras's and TFLearn's abstraction to layers, so it's easy to pickup.\n",
    "\n",
    ">However, if you would like to get the most out of this course, try to solve all the problems _without_ using anything from the TF Layers packages. You **can** still use classes from other packages that happen to have the same name as ones you find in TF Layers! For example, instead of using the TF Layers version of the `conv2d` class, [tf.layers.conv2d](https://www.tensorflow.org/api_docs/python/tf/layers/conv2d), you would want to use the TF Neural Network version of `conv2d`, [tf.nn.conv2d](https://www.tensorflow.org/api_docs/python/tf/nn/conv2d). \n",
    "\n",
    "Let's begin!\n",
    "\n",
    "### Input\n",
    "The neural network needs to read the image data, one-hot encoded labels, and dropout keep probability. Implement the following functions\n",
    "* Implement `neural_net_image_input`\n",
    " * Return a [TF Placeholder](https://www.tensorflow.org/api_docs/python/tf/placeholder)\n",
    " * Set the shape using `image_shape` with batch size set to `None`.\n",
    " * Name the TensorFlow placeholder \"x\" using the TensorFlow `name` parameter in the [TF Placeholder](https://www.tensorflow.org/api_docs/python/tf/placeholder).\n",
    "* Implement `neural_net_label_input`\n",
    " * Return a [TF Placeholder](https://www.tensorflow.org/api_docs/python/tf/placeholder)\n",
    " * Set the shape using `n_classes` with batch size set to `None`.\n",
    " * Name the TensorFlow placeholder \"y\" using the TensorFlow `name` parameter in the [TF Placeholder](https://www.tensorflow.org/api_docs/python/tf/placeholder).\n",
    "* Implement `neural_net_keep_prob_input`\n",
    " * Return a [TF Placeholder](https://www.tensorflow.org/api_docs/python/tf/placeholder) for dropout keep probability.\n",
    " * Name the TensorFlow placeholder \"keep_prob\" using the TensorFlow `name` parameter in the [TF Placeholder](https://www.tensorflow.org/api_docs/python/tf/placeholder).\n",
    "\n",
    "These names will be used at the end of the project to load your saved model.\n",
    "\n",
    "Note: `None` for shapes in TensorFlow allow for a dynamic size."
   ]
  },
  {
   "cell_type": "code",
   "execution_count": 8,
   "metadata": {},
   "outputs": [
    {
     "name": "stdout",
     "output_type": "stream",
     "text": [
      "Image Input Tests Passed.\n",
      "Label Input Tests Passed.\n",
      "Keep Prob Tests Passed.\n"
     ]
    }
   ],
   "source": [
    "import tensorflow as tf\n",
    "\n",
    "def neural_net_image_input(image_shape):\n",
    "    \"\"\"\n",
    "    Return a Tensor for a batch of image input\n",
    "    : image_shape: Shape of the images\n",
    "    : return: Tensor for image input.\n",
    "    \"\"\"\n",
    "    return tf.placeholder(tf.float32, shape=[None, image_shape[0], image_shape[1], image_shape[2]], name='x')\n",
    "\n",
    "\n",
    "def neural_net_label_input(n_classes):\n",
    "    \"\"\"\n",
    "    Return a Tensor for a batch of label input\n",
    "    : n_classes: Number of classes\n",
    "    : return: Tensor for label input.\n",
    "    \"\"\"\n",
    "    return tf.placeholder(tf.float32, shape=[None, n_classes], name='y')\n",
    "\n",
    "\n",
    "def neural_net_keep_prob_input():\n",
    "    \"\"\"\n",
    "    Return a Tensor for keep probability\n",
    "    : return: Tensor for keep probability.\n",
    "    \"\"\"    \n",
    "    return tf.placeholder(tf.float32, name='keep_prob')\n",
    "\n",
    "\"\"\"\n",
    "DON'T MODIFY ANYTHING IN THIS CELL THAT IS BELOW THIS LINE\n",
    "\"\"\"\n",
    "tf.reset_default_graph()\n",
    "tests.test_nn_image_inputs(neural_net_image_input)\n",
    "tests.test_nn_label_inputs(neural_net_label_input)\n",
    "tests.test_nn_keep_prob_inputs(neural_net_keep_prob_input)"
   ]
  },
  {
   "cell_type": "markdown",
   "metadata": {},
   "source": [
    "### Convolution and Max Pooling Layer\n",
    "Convolution layers have a lot of success with images. For this code cell, you should implement the function `conv2d_maxpool` to apply convolution then max pooling:\n",
    "* Create the weight and bias using `conv_ksize`, `conv_num_outputs` and the shape of `x_tensor`.\n",
    "* Apply a convolution to `x_tensor` using weight and `conv_strides`.\n",
    " * We recommend you use same padding, but you're welcome to use any padding.\n",
    "* Add bias\n",
    "* Add a nonlinear activation to the convolution.\n",
    "* Apply Max Pooling using `pool_ksize` and `pool_strides`.\n",
    " * We recommend you use same padding, but you're welcome to use any padding.\n",
    "\n",
    "**Note:** You **can't** use [TensorFlow Layers](https://www.tensorflow.org/api_docs/python/tf/layers) or [TensorFlow Layers (contrib)](https://www.tensorflow.org/api_guides/python/contrib.layers) for **this** layer, but you can still use TensorFlow's [Neural Network](https://www.tensorflow.org/api_docs/python/tf/nn) package. You may still use the shortcut option for all the **other** layers."
   ]
  },
  {
   "cell_type": "code",
   "execution_count": 9,
   "metadata": {},
   "outputs": [
    {
     "name": "stdout",
     "output_type": "stream",
     "text": [
      "Tests Passed\n"
     ]
    }
   ],
   "source": [
    "def conv2d_maxpool(x_tensor, conv_num_outputs, conv_ksize, conv_strides, pool_ksize, pool_strides):\n",
    "    \"\"\"\n",
    "    Apply convolution then max pooling to x_tensor\n",
    "    :param x_tensor: TensorFlow Tensor\n",
    "    :param conv_num_outputs: Number of outputs for the convolutional layer\n",
    "    :param conv_ksize: kernal size 2-D Tuple for the convolutional layer\n",
    "    :param conv_strides: Stride 2-D Tuple for convolution\n",
    "    :param pool_ksize: kernal size 2-D Tuple for pool\n",
    "    :param pool_strides: Stride 2-D Tuple for pool\n",
    "    : return: A tensor that represents convolution and max pooling of x_tensor\n",
    "    \"\"\"\n",
    "    weight = tf.Variable(tf.random_normal([conv_ksize[0], conv_ksize[1], x_tensor.get_shape().as_list()[3], \\\n",
    "                                           conv_num_outputs], stddev=0.1))\n",
    "    \n",
    "    bias   = tf.Variable(tf.random_normal([conv_num_outputs], stddev=0.1))    \n",
    "    x_tensor = tf.nn.conv2d(x_tensor, weight, [1, conv_strides[0], conv_strides[1], 1], padding='SAME')    \n",
    "    x_tensor = tf.nn.bias_add(x_tensor, bias)    \n",
    "    x_tensor = tf.nn.relu(x_tensor)    \n",
    "    x_tensor = tf.nn.max_pool(x_tensor, [1, pool_ksize[0], pool_ksize[1], 1], \\\n",
    "                              [1, pool_strides[0], pool_strides[1], 1], padding='SAME')\n",
    "    \n",
    "    return x_tensor \n",
    "\n",
    "\n",
    "\"\"\"\n",
    "DON'T MODIFY ANYTHING IN THIS CELL THAT IS BELOW THIS LINE\n",
    "\"\"\"\n",
    "tests.test_con_pool(conv2d_maxpool)"
   ]
  },
  {
   "cell_type": "markdown",
   "metadata": {},
   "source": [
    "### Flatten Layer\n",
    "Implement the `flatten` function to change the dimension of `x_tensor` from a 4-D tensor to a 2-D tensor.  The output should be the shape (*Batch Size*, *Flattened Image Size*). Shortcut option: you can use classes from the [TensorFlow Layers](https://www.tensorflow.org/api_docs/python/tf/layers) or [TensorFlow Layers (contrib)](https://www.tensorflow.org/api_guides/python/contrib.layers) packages for this layer. For more of a challenge, only use other TensorFlow packages."
   ]
  },
  {
   "cell_type": "code",
   "execution_count": 10,
   "metadata": {},
   "outputs": [
    {
     "name": "stdout",
     "output_type": "stream",
     "text": [
      "Tests Passed\n"
     ]
    }
   ],
   "source": [
    "def flatten(x_tensor):\n",
    "    \"\"\"\n",
    "    Flatten x_tensor to (Batch Size, Flattened Image Size)\n",
    "    : x_tensor: A tensor of size (Batch Size, ...), where ... are the image dimensions.\n",
    "    : return: A tensor of size (Batch Size, Flattened Image Size).\n",
    "    \"\"\"\n",
    "    return tf.contrib.layers.flatten(x_tensor)\n",
    "\n",
    "\"\"\"\n",
    "DON'T MODIFY ANYTHING IN THIS CELL THAT IS BELOW THIS LINE\n",
    "\"\"\"\n",
    "tests.test_flatten(flatten)"
   ]
  },
  {
   "cell_type": "markdown",
   "metadata": {},
   "source": [
    "### Fully-Connected Layer\n",
    "Implement the `fully_conn` function to apply a fully connected layer to `x_tensor` with the shape (*Batch Size*, *num_outputs*). Shortcut option: you can use classes from the [TensorFlow Layers](https://www.tensorflow.org/api_docs/python/tf/layers) or [TensorFlow Layers (contrib)](https://www.tensorflow.org/api_guides/python/contrib.layers) packages for this layer. For more of a challenge, only use other TensorFlow packages."
   ]
  },
  {
   "cell_type": "code",
   "execution_count": 11,
   "metadata": {},
   "outputs": [
    {
     "name": "stdout",
     "output_type": "stream",
     "text": [
      "Tests Passed\n"
     ]
    }
   ],
   "source": [
    "def fully_conn(x_tensor, num_outputs):\n",
    "    \"\"\"\n",
    "    Apply a fully connected layer to x_tensor using weight and bias\n",
    "    : x_tensor: A 2-D tensor where the first dimension is batch size.\n",
    "    : num_outputs: The number of output that the new tensor should be.\n",
    "    : return: A 2-D tensor where the second dimension is num_outputs.\n",
    "    \"\"\"\n",
    "    return tf.contrib.layers.fully_connected(x_tensor, num_outputs, tf.nn.relu)\n",
    "\n",
    "\n",
    "\"\"\"\n",
    "DON'T MODIFY ANYTHING IN THIS CELL THAT IS BELOW THIS LINE\n",
    "\"\"\"\n",
    "tests.test_fully_conn(fully_conn)"
   ]
  },
  {
   "cell_type": "markdown",
   "metadata": {},
   "source": [
    "### Output Layer\n",
    "Implement the `output` function to apply a fully connected layer to `x_tensor` with the shape (*Batch Size*, *num_outputs*). Shortcut option: you can use classes from the [TensorFlow Layers](https://www.tensorflow.org/api_docs/python/tf/layers) or [TensorFlow Layers (contrib)](https://www.tensorflow.org/api_guides/python/contrib.layers) packages for this layer. For more of a challenge, only use other TensorFlow packages.\n",
    "\n",
    "**Note:** Activation, softmax, or cross entropy should **not** be applied to this."
   ]
  },
  {
   "cell_type": "code",
   "execution_count": 12,
   "metadata": {},
   "outputs": [
    {
     "name": "stdout",
     "output_type": "stream",
     "text": [
      "Tests Passed\n"
     ]
    }
   ],
   "source": [
    "def output(x_tensor, num_outputs):\n",
    "    \"\"\"\n",
    "    Apply a output layer to x_tensor using weight and bias\n",
    "    : x_tensor: A 2-D tensor where the first dimension is batch size.\n",
    "    : num_outputs: The number of output that the new tensor should be.\n",
    "    : return: A 2-D tensor where the second dimension is num_outputs.\n",
    "    \"\"\"\n",
    "    return tf.contrib.layers.fully_connected(x_tensor, num_outputs)\n",
    "\n",
    "\n",
    "\n",
    "\"\"\"\n",
    "DON'T MODIFY ANYTHING IN THIS CELL THAT IS BELOW THIS LINE\n",
    "\"\"\"\n",
    "tests.test_output(output)"
   ]
  },
  {
   "cell_type": "markdown",
   "metadata": {},
   "source": [
    "### Create Convolutional Model\n",
    "Implement the function `conv_net` to create a convolutional neural network model. The function takes in a batch of images, `x`, and outputs logits.  Use the layers you created above to create this model:\n",
    "\n",
    "* Apply 1, 2, or 3 Convolution and Max Pool layers\n",
    "* Apply a Flatten Layer\n",
    "* Apply 1, 2, or 3 Fully Connected Layers\n",
    "* Apply an Output Layer\n",
    "* Return the output\n",
    "* Apply [TensorFlow's Dropout](https://www.tensorflow.org/api_docs/python/tf/nn/dropout) to one or more layers in the model using `keep_prob`. "
   ]
  },
  {
   "cell_type": "code",
   "execution_count": 13,
   "metadata": {},
   "outputs": [
    {
     "name": "stdout",
     "output_type": "stream",
     "text": [
      "Neural Network Built!\n"
     ]
    }
   ],
   "source": [
    "def conv_net(x, keep_prob):\n",
    "    \"\"\"\n",
    "    Create a convolutional neural network model\n",
    "    : x: Placeholder tensor that holds image data.\n",
    "    : keep_prob: Placeholder tensor that hold dropout keep probability.\n",
    "    : return: Tensor that represents logits\n",
    "    \"\"\"\n",
    "    # TODO: Apply 1, 2, or 3 Convolution and Max Pool layers\n",
    "    #    Play around with different number of outputs, kernel size and stride\n",
    "    # Function Definition from Above:\n",
    "    #    conv2d_maxpool(x_tensor, conv_num_outputs, conv_ksize, conv_strides, pool_ksize, pool_strides)\n",
    "    x_tensor = conv2d_maxpool(x, 16, (3, 3), (2, 2), (2, 2), (1, 1))\n",
    "    x_tensor = conv2d_maxpool(x_tensor, 32, (4, 4), (1, 1), (2, 2), (2, 2))\n",
    "    x_tensor = conv2d_maxpool(x_tensor, 64, (4, 4), (1, 1), (2, 2), (2, 2))\n",
    "\n",
    "    # TODO: Apply a Flatten Layer\n",
    "    # Function Definition from Above:\n",
    "    #   flatten(x_tensor)\n",
    "    x_tensor = flatten(x_tensor)\n",
    "\n",
    "    # TODO: Apply 1, 2, or 3 Fully Connected Layers\n",
    "    #    Play around with different number of outputs\n",
    "    # Function Definition from Above:\n",
    "    #   fully_conn(x_tensor, num_outputs)\n",
    "    x_tensor = fully_conn(x_tensor, 256)\n",
    "    \n",
    "    # Apply dropout\n",
    "    x_tensor = tf.nn.dropout(x_tensor, keep_prob)\n",
    "    \n",
    "    # TODO: Apply an Output Layer\n",
    "    #    Set this to the number of classes\n",
    "    # Function Definition from Above:\n",
    "    #   output(x_tensor, num_outputs)\n",
    "    x_tensor = output(x_tensor, 10)\n",
    "    \n",
    "    # TODO: return output\n",
    "    return x_tensor\n",
    "\n",
    "\n",
    "\"\"\"\n",
    "DON'T MODIFY ANYTHING IN THIS CELL THAT IS BELOW THIS LINE\n",
    "\"\"\"\n",
    "\n",
    "##############################\n",
    "## Build the Neural Network ##\n",
    "##############################\n",
    "\n",
    "# Remove previous weights, bias, inputs, etc..\n",
    "tf.reset_default_graph()\n",
    "\n",
    "# Inputs\n",
    "x = neural_net_image_input((32, 32, 3))\n",
    "y = neural_net_label_input(10)\n",
    "keep_prob = neural_net_keep_prob_input()\n",
    "\n",
    "# Model\n",
    "logits = conv_net(x, keep_prob)\n",
    "\n",
    "# Name logits Tensor, so that is can be loaded from disk after training\n",
    "logits = tf.identity(logits, name='logits')\n",
    "\n",
    "# Loss and Optimizer\n",
    "cost = tf.reduce_mean(tf.nn.softmax_cross_entropy_with_logits(logits=logits, labels=y))\n",
    "optimizer = tf.train.AdamOptimizer().minimize(cost)\n",
    "\n",
    "# Accuracy\n",
    "correct_pred = tf.equal(tf.argmax(logits, 1), tf.argmax(y, 1))\n",
    "accuracy = tf.reduce_mean(tf.cast(correct_pred, tf.float32), name='accuracy')\n",
    "\n",
    "tests.test_conv_net(conv_net)"
   ]
  },
  {
   "cell_type": "markdown",
   "metadata": {},
   "source": [
    "## Train the Neural Network\n",
    "### Single Optimization\n",
    "Implement the function `train_neural_network` to do a single optimization.  The optimization should use `optimizer` to optimize in `session` with a `feed_dict` of the following:\n",
    "* `x` for image input\n",
    "* `y` for labels\n",
    "* `keep_prob` for keep probability for dropout\n",
    "\n",
    "This function will be called for each batch, so `tf.global_variables_initializer()` has already been called.\n",
    "\n",
    "Note: Nothing needs to be returned. This function is only optimizing the neural network."
   ]
  },
  {
   "cell_type": "code",
   "execution_count": 14,
   "metadata": {},
   "outputs": [
    {
     "name": "stdout",
     "output_type": "stream",
     "text": [
      "Tests Passed\n"
     ]
    }
   ],
   "source": [
    "def train_neural_network(session, optimizer, keep_probability, feature_batch, label_batch):\n",
    "    \"\"\"\n",
    "    Optimize the session on a batch of images and labels\n",
    "    : session: Current TensorFlow session\n",
    "    : optimizer: TensorFlow optimizer function\n",
    "    : keep_probability: keep probability\n",
    "    : feature_batch: Batch of Numpy image data\n",
    "    : label_batch: Batch of Numpy label data\n",
    "    \"\"\"\n",
    "    session.run(optimizer, feed_dict={x: feature_batch, y: label_batch, \\\n",
    "                                      keep_prob: keep_probability})\n",
    "    \n",
    "    pass\n",
    "\n",
    "\"\"\"\n",
    "DON'T MODIFY ANYTHING IN THIS CELL THAT IS BELOW THIS LINE\n",
    "\"\"\"\n",
    "tests.test_train_nn(train_neural_network)"
   ]
  },
  {
   "cell_type": "markdown",
   "metadata": {},
   "source": [
    "### Show Stats\n",
    "Implement the function `print_stats` to print loss and validation accuracy.  Use the global variables `valid_features` and `valid_labels` to calculate validation accuracy.  Use a keep probability of `1.0` to calculate the loss and validation accuracy."
   ]
  },
  {
   "cell_type": "code",
   "execution_count": 15,
   "metadata": {
    "collapsed": true
   },
   "outputs": [],
   "source": [
    "def print_stats(session, feature_batch, label_batch, cost, accuracy):\n",
    "    \"\"\"\n",
    "    Print information about loss and validation accuracy\n",
    "    : session: Current TensorFlow session\n",
    "    : feature_batch: Batch of Numpy image data\n",
    "    : label_batch: Batch of Numpy label data\n",
    "    : cost: TensorFlow cost function\n",
    "    : accuracy: TensorFlow accuracy function\n",
    "    \"\"\"\n",
    "    loss = session.run(cost, feed_dict={x: feature_batch, y: label_batch, \\\n",
    "                                        keep_prob: 1. })\n",
    "    \n",
    "    acc = session.run(accuracy, feed_dict={x: feature_batch, y: label_batch,   \\\n",
    "                                             keep_prob: 1.})\n",
    "    \n",
    "    print('Loss: {:.4f}  Validation Accuracy: {:.2f}%'.format(loss, acc*100), end='\\r')\n",
    "    \n",
    "    pass"
   ]
  },
  {
   "cell_type": "markdown",
   "metadata": {},
   "source": [
    "### Hyperparameters\n",
    "Tune the following parameters:\n",
    "* Set `epochs` to the number of iterations until the network stops learning or start overfitting\n",
    "* Set `batch_size` to the highest number that your machine has memory for.  Most people set them to common sizes of memory:\n",
    " * 64\n",
    " * 128\n",
    " * 256\n",
    " * ...\n",
    "* Set `keep_probability` to the probability of keeping a node using dropout"
   ]
  },
  {
   "cell_type": "code",
   "execution_count": 16,
   "metadata": {
    "collapsed": true
   },
   "outputs": [],
   "source": [
    "# TODO: Tune Parameters\n",
    "epochs = 100\n",
    "batch_size = 1024\n",
    "keep_probability = 0.7"
   ]
  },
  {
   "cell_type": "markdown",
   "metadata": {},
   "source": [
    "### Train on a Single CIFAR-10 Batch\n",
    "Instead of training the neural network on all the CIFAR-10 batches of data, let's use a single batch. This should save time while you iterate on the model to get a better accuracy.  Once the final validation accuracy is 50% or greater, run the model on all the data in the next section."
   ]
  },
  {
   "cell_type": "code",
   "execution_count": 17,
   "metadata": {},
   "outputs": [
    {
     "name": "stdout",
     "output_type": "stream",
     "text": [
      "Checking the Training on a Single Batch...\n",
      "Epoch 100, CIFAR-10 Batch 1:  oss: 2.1561  Validation Accuracy: 21.41%Loss: 2.0399  Validation Accuracy: 30.69%Loss: 1.9280  Validation Accuracy: 33.29%Loss: 1.8409  Validation Accuracy: 36.63%Loss: 1.7452  Validation Accuracy: 42.20%Loss: 1.7081  Validation Accuracy: 44.43%Loss: 1.5858  Validation Accuracy: 47.28%Loss: 1.5009  Validation Accuracy: 48.51%Loss: 1.4404  Validation Accuracy: 51.73%Loss: 1.3855  Validation Accuracy: 53.71%Loss: 1.3472  Validation Accuracy: 55.20%Loss: 1.3160  Validation Accuracy: 55.82%Loss: 1.2885  Validation Accuracy: 55.82%Loss: 1.2330  Validation Accuracy: 57.67%Loss: 1.2236  Validation Accuracy: 58.66%Loss: 1.1934  Validation Accuracy: 59.16%Loss: 1.1463  Validation Accuracy: 60.40%Loss: 1.1307  Validation Accuracy: 61.63%Loss: 1.1046  Validation Accuracy: 62.25%Loss: 1.0966  Validation Accuracy: 63.00%Loss: 1.0470  Validation Accuracy: 63.86%Loss: 1.0229  Validation Accuracy: 65.59%Loss: 0.9981  Validation Accuracy: 67.45%Loss: 0.9669  Validation Accuracy: 66.71%Loss: 0.9660  Validation Accuracy: 67.57%Loss: 0.9231  Validation Accuracy: 69.68%Loss: 0.9035  Validation Accuracy: 70.54%Loss: 0.8814  Validation Accuracy: 72.77%Loss: 0.8576  Validation Accuracy: 72.90%Loss: 0.8428  Validation Accuracy: 74.75%Loss: 0.8065  Validation Accuracy: 74.88%Loss: 0.8236  Validation Accuracy: 74.75%Loss: 0.8091  Validation Accuracy: 75.50%Loss: 0.7742  Validation Accuracy: 76.73%Loss: 0.7786  Validation Accuracy: 76.36%Loss: 0.7226  Validation Accuracy: 78.47%Loss: 0.6974  Validation Accuracy: 79.46%Loss: 0.6944  Validation Accuracy: 78.47%Loss: 0.6590  Validation Accuracy: 81.56%Loss: 0.6366  Validation Accuracy: 81.06%Loss: 0.6194  Validation Accuracy: 83.29%Loss: 0.6087  Validation Accuracy: 81.68%Loss: 0.5941  Validation Accuracy: 83.04%Loss: 0.5852  Validation Accuracy: 83.04%Loss: 0.5807  Validation Accuracy: 83.54%Loss: 0.5413  Validation Accuracy: 85.15%Loss: 0.5297  Validation Accuracy: 86.76%Loss: 0.5274  Validation Accuracy: 85.40%Loss: 0.5033  Validation Accuracy: 86.01%Loss: 0.4977  Validation Accuracy: 85.89%Loss: 0.4783  Validation Accuracy: 87.00%Loss: 0.4603  Validation Accuracy: 87.13%Loss: 0.4973  Validation Accuracy: 86.01%Loss: 0.4494  Validation Accuracy: 88.24%Loss: 0.4207  Validation Accuracy: 88.61%Loss: 0.4271  Validation Accuracy: 88.86%Loss: 0.4104  Validation Accuracy: 89.36%Loss: 0.4077  Validation Accuracy: 89.73%Loss: 0.4005  Validation Accuracy: 89.73%Loss: 0.4008  Validation Accuracy: 89.60%Loss: 0.3804  Validation Accuracy: 89.73%Loss: 0.4038  Validation Accuracy: 88.74%Loss: 0.4300  Validation Accuracy: 88.37%Loss: 0.3871  Validation Accuracy: 89.73%Loss: 0.3802  Validation Accuracy: 90.22%Loss: 0.3469  Validation Accuracy: 90.10%Loss: 0.3645  Validation Accuracy: 89.85%Loss: 0.3788  Validation Accuracy: 88.12%Loss: 0.3478  Validation Accuracy: 92.20%Loss: 0.3746  Validation Accuracy: 90.97%Loss: 0.3271  Validation Accuracy: 91.34%Loss: 0.2988  Validation Accuracy: 92.45%Loss: 0.2948  Validation Accuracy: 93.44%Loss: 0.2850  Validation Accuracy: 93.56%Loss: 0.2739  Validation Accuracy: 93.94%Loss: 0.2508  Validation Accuracy: 94.43%Loss: 0.2403  Validation Accuracy: 95.79%Loss: 0.2288  Validation Accuracy: 95.42%Loss: 0.2189  Validation Accuracy: 96.29%Loss: 0.2072  Validation Accuracy: 95.79%Loss: 0.1931  Validation Accuracy: 95.79%Loss: 0.1793  Validation Accuracy: 96.29%Loss: 0.1784  Validation Accuracy: 96.78%Loss: 0.1646  Validation Accuracy: 96.66%Loss: 0.1637  Validation Accuracy: 96.78%Loss: 0.1499  Validation Accuracy: 97.28%Loss: 0.1435  Validation Accuracy: 97.52%Loss: 0.1487  Validation Accuracy: 97.52%Loss: 0.1522  Validation Accuracy: 97.28%Loss: 0.1361  Validation Accuracy: 97.77%Loss: 0.1216  Validation Accuracy: 98.14%Loss: 0.1248  Validation Accuracy: 98.02%Loss: 0.1234  Validation Accuracy: 97.90%Loss: 0.1262  Validation Accuracy: 97.90%Loss: 0.1150  Validation Accuracy: 98.02%Loss: 0.1389  Validation Accuracy: 97.52%Loss: 0.1234  Validation Accuracy: 98.02%Loss: 0.1110  Validation Accuracy: 98.27%Loss: 0.1017  Validation Accuracy: 98.39%Loss: 0.0971  Validation Accuracy: 98.89%\r"
     ]
    }
   ],
   "source": [
    "\"\"\"\n",
    "DON'T MODIFY ANYTHING IN THIS CELL\n",
    "\"\"\"\n",
    "print('Checking the Training on a Single Batch...')\n",
    "with tf.Session() as sess:\n",
    "    # Initializing the variables\n",
    "    sess.run(tf.global_variables_initializer())\n",
    "    \n",
    "    # Training cycle\n",
    "    for epoch in range(epochs):\n",
    "        batch_i = 1\n",
    "        for batch_features, batch_labels in helper.load_preprocess_training_batch(batch_i, batch_size):\n",
    "            train_neural_network(sess, optimizer, keep_probability, batch_features, batch_labels)\n",
    "        print('Epoch {:>2}, CIFAR-10 Batch {}:  '.format(epoch + 1, batch_i), end='')\n",
    "        print_stats(sess, batch_features, batch_labels, cost, accuracy)"
   ]
  },
  {
   "cell_type": "markdown",
   "metadata": {},
   "source": [
    "### Fully Train the Model\n",
    "Now that you got a good accuracy with a single CIFAR-10 batch, try it with all five batches."
   ]
  },
  {
   "cell_type": "code",
   "execution_count": 18,
   "metadata": {},
   "outputs": [
    {
     "name": "stdout",
     "output_type": "stream",
     "text": [
      "Training...\n"
     ]
    },
    {
     "name": "stdout",
     "output_type": "stream",
     "text": [
      "Epoch 40, CIFAR-10 Batch 4:  Loss: 2.2888  Validation Accuracy: 14.73%Loss: 2.2823  Validation Accuracy: 14.11%Loss: 2.2487  Validation Accuracy: 13.86%Loss: 2.2115  Validation Accuracy: 20.42%Loss: 2.1767  Validation Accuracy: 21.41%Loss: 2.1687  Validation Accuracy: 22.65%Loss: 2.0787  Validation Accuracy: 28.59%Loss: 2.0048  Validation Accuracy: 31.68%Loss: 1.9661  Validation Accuracy: 33.66%Loss: 1.8933  Validation Accuracy: 34.90%Loss: 1.8395  Validation Accuracy: 36.88%Loss: 1.7915  Validation Accuracy: 40.35%Loss: 1.6362  Validation Accuracy: 44.06%Loss: 1.6518  Validation Accuracy: 43.56%Loss: 1.5588  Validation Accuracy: 45.05%Loss: 1.5714  Validation Accuracy: 47.28%Loss: 1.5448  Validation Accuracy: 46.78%Loss: 1.4889  Validation Accuracy: 49.75%Loss: 1.5272  Validation Accuracy: 48.64%Loss: 1.4447  Validation Accuracy: 50.50%Loss: 1.4955  Validation Accuracy: 48.39%Loss: 1.4839  Validation Accuracy: 49.01%Loss: 1.3833  Validation Accuracy: 50.25%Loss: 1.3134  Validation Accuracy: 52.72%Loss: 1.2469  Validation Accuracy: 57.80%Loss: 1.2833  Validation Accuracy: 54.83%Loss: 1.2956  Validation Accuracy: 53.84%Loss: 1.1897  Validation Accuracy: 57.30%Loss: 1.1969  Validation Accuracy: 58.91%Loss: 1.1605  Validation Accuracy: 59.53%Loss: 1.2110  Validation Accuracy: 57.18%Loss: 1.2403  Validation Accuracy: 55.82%Loss: 1.1495  Validation Accuracy: 58.54%Loss: 1.1553  Validation Accuracy: 59.28%Loss: 1.1166  Validation Accuracy: 60.64%Loss: 1.1725  Validation Accuracy: 59.41%Loss: 1.1295  Validation Accuracy: 59.41%Loss: 1.0718  Validation Accuracy: 62.25%Loss: 1.0943  Validation Accuracy: 61.63%Loss: 1.0698  Validation Accuracy: 60.27%Loss: 1.1188  Validation Accuracy: 60.64%Loss: 1.0838  Validation Accuracy: 61.51%Loss: 1.0249  Validation Accuracy: 61.51%Loss: 1.0355  Validation Accuracy: 63.00%Loss: 1.0070  Validation Accuracy: 64.23%Loss: 1.0652  Validation Accuracy: 62.25%Loss: 1.0723  Validation Accuracy: 62.62%Loss: 0.9836  Validation Accuracy: 63.49%Loss: 1.0115  Validation Accuracy: 64.11%Loss: 0.9787  Validation Accuracy: 65.59%Loss: 1.0416  Validation Accuracy: 63.49%Loss: 1.0220  Validation Accuracy: 64.11%Loss: 0.9491  Validation Accuracy: 65.35%Loss: 0.9689  Validation Accuracy: 65.97%Loss: 0.9386  Validation Accuracy: 66.71%Loss: 0.9973  Validation Accuracy: 64.60%Loss: 0.9702  Validation Accuracy: 66.83%Loss: 0.9109  Validation Accuracy: 65.84%Loss: 0.9225  Validation Accuracy: 68.69%Loss: 0.9064  Validation Accuracy: 68.94%Loss: 0.9783  Validation Accuracy: 65.72%Loss: 0.9425  Validation Accuracy: 66.83%Loss: 0.8960  Validation Accuracy: 67.08%Loss: 0.8911  Validation Accuracy: 70.42%Loss: 0.8763  Validation Accuracy: 71.04%Loss: 0.9468  Validation Accuracy: 66.83%Loss: 0.9053  Validation Accuracy: 67.95%Loss: 0.9049  Validation Accuracy: 67.08%Loss: 0.8868  Validation Accuracy: 70.30%Loss: 0.8579  Validation Accuracy: 71.29%Loss: 0.9117  Validation Accuracy: 67.95%Loss: 0.8804  Validation Accuracy: 69.80%Loss: 0.8442  Validation Accuracy: 68.81%Loss: 0.8367  Validation Accuracy: 71.16%Loss: 0.8146  Validation Accuracy: 73.51%Loss: 0.8890  Validation Accuracy: 69.80%Loss: 0.8653  Validation Accuracy: 70.67%Loss: 0.8285  Validation Accuracy: 69.93%Loss: 0.8118  Validation Accuracy: 72.52%Loss: 0.7933  Validation Accuracy: 74.26%Loss: 0.8701  Validation Accuracy: 69.43%Loss: 0.8419  Validation Accuracy: 70.05%Loss: 0.8096  Validation Accuracy: 70.42%Loss: 0.8108  Validation Accuracy: 72.77%Loss: 0.7899  Validation Accuracy: 73.02%Loss: 0.8648  Validation Accuracy: 69.06%Loss: 0.8318  Validation Accuracy: 71.16%Loss: 0.7713  Validation Accuracy: 72.15%Loss: 0.7877  Validation Accuracy: 73.64%Loss: 0.7646  Validation Accuracy: 73.64%Loss: 0.8692  Validation Accuracy: 68.07%Loss: 0.7982  Validation Accuracy: 72.90%Loss: 0.7466  Validation Accuracy: 73.64%Loss: 0.7478  Validation Accuracy: 74.50%Loss: 0.7407  Validation Accuracy: 74.88%Loss: 0.8171  Validation Accuracy: 70.79%Loss: 0.7775  Validation Accuracy: 71.66%Loss: 0.7291  Validation Accuracy: 74.01%Loss: 0.7223  Validation Accuracy: 76.11%Loss: 0.7174  Validation Accuracy: 75.99%Loss: 0.7929  Validation Accuracy: 72.03%Loss: 0.7618  Validation Accuracy: 72.65%Loss: 0.7208  Validation Accuracy: 74.01%Loss: 0.6998  Validation Accuracy: 76.86%Loss: 0.6913  Validation Accuracy: 77.10%Loss: 0.7736  Validation Accuracy: 73.51%Loss: 0.7285  Validation Accuracy: 76.24%Loss: 0.6989  Validation Accuracy: 74.50%Loss: 0.6886  Validation Accuracy: 76.36%Loss: 0.6788  Validation Accuracy: 77.85%Loss: 0.7657  Validation Accuracy: 73.39%Loss: 0.7158  Validation Accuracy: 76.73%Loss: 0.6702  Validation Accuracy: 76.24%Loss: 0.6792  Validation Accuracy: 76.36%Loss: 0.6597  Validation Accuracy: 78.47%Loss: 0.7347  Validation Accuracy: 73.76%Loss: 0.6987  Validation Accuracy: 77.35%Loss: 0.6556  Validation Accuracy: 77.60%Loss: 0.6562  Validation Accuracy: 77.97%Loss: 0.6303  Validation Accuracy: 78.59%Loss: 0.7400  Validation Accuracy: 73.89%Loss: 0.7000  Validation Accuracy: 76.73%Loss: 0.6437  Validation Accuracy: 78.47%Loss: 0.6218  Validation Accuracy: 78.47%Loss: 0.6070  Validation Accuracy: 79.58%Loss: 0.7391  Validation Accuracy: 74.13%Loss: 0.6875  Validation Accuracy: 77.35%Loss: 0.6312  Validation Accuracy: 78.22%Loss: 0.6327  Validation Accuracy: 79.58%Loss: 0.5983  Validation Accuracy: 80.20%Loss: 0.7077  Validation Accuracy: 75.62%Loss: 0.6706  Validation Accuracy: 77.48%Loss: 0.6439  Validation Accuracy: 77.72%Loss: 0.6179  Validation Accuracy: 78.96%Loss: 0.6248  Validation Accuracy: 79.46%Loss: 0.6881  Validation Accuracy: 77.10%Loss: 0.6767  Validation Accuracy: 78.34%Loss: 0.6362  Validation Accuracy: 76.86%Loss: 0.6187  Validation Accuracy: 80.20%Loss: 0.6103  Validation Accuracy: 79.33%Loss: 0.7062  Validation Accuracy: 76.98%Loss: 0.6705  Validation Accuracy: 77.35%Loss: 0.6225  Validation Accuracy: 77.60%Loss: 0.5686  Validation Accuracy: 81.19%Loss: 0.5786  Validation Accuracy: 81.56%Loss: 0.6731  Validation Accuracy: 78.59%Loss: 0.6339  Validation Accuracy: 78.71%Loss: 0.5850  Validation Accuracy: 79.58%Loss: 0.5675  Validation Accuracy: 81.31%Loss: 0.5845  Validation Accuracy: 80.57%Loss: 0.6328  Validation Accuracy: 79.46%Loss: 0.6248  Validation Accuracy: 78.34%Loss: 0.5847  Validation Accuracy: 79.70%Loss: 0.5695  Validation Accuracy: 82.18%Loss: 0.5939  Validation Accuracy: 79.70%Loss: 0.6529  Validation Accuracy: 78.22%Loss: 0.5990  Validation Accuracy: 79.46%Loss: 0.5582  Validation Accuracy: 80.07%Loss: 0.5372  Validation Accuracy: 81.93%Loss: 0.5469  Validation Accuracy: 81.93%Loss: 0.6186  Validation Accuracy: 78.71%Loss: 0.5944  Validation Accuracy: 79.70%Loss: 0.5504  Validation Accuracy: 81.06%Loss: 0.5317  Validation Accuracy: 82.55%Loss: 0.5238  Validation Accuracy: 83.54%Loss: 0.6007  Validation Accuracy: 79.95%Loss: 0.5822  Validation Accuracy: 80.69%Loss: 0.5233  Validation Accuracy: 82.67%Loss: 0.5005  Validation Accuracy: 82.92%Loss: 0.5008  Validation Accuracy: 84.53%Loss: 0.5722  Validation Accuracy: 80.82%Loss: 0.5715  Validation Accuracy: 80.57%Loss: 0.5047  Validation Accuracy: 83.79%Loss: 0.5062  Validation Accuracy: 82.30%Loss: 0.4871  Validation Accuracy: 85.40%Loss: 0.5559  Validation Accuracy: 81.56%Loss: 0.5488  Validation Accuracy: 81.56%Loss: 0.5049  Validation Accuracy: 83.54%Loss: 0.5054  Validation Accuracy: 83.54%Loss: 0.4732  Validation Accuracy: 87.13%Loss: 0.5405  Validation Accuracy: 81.56%Loss: 0.5323  Validation Accuracy: 82.05%Loss: 0.4932  Validation Accuracy: 83.54%Loss: 0.4836  Validation Accuracy: 84.41%Loss: 0.4655  Validation Accuracy: 85.89%Loss: 0.5432  Validation Accuracy: 81.56%Loss: 0.5368  Validation Accuracy: 82.43%Loss: 0.4777  Validation Accuracy: 84.53%Loss: 0.4670  Validation Accuracy: 84.78%Loss: 0.4571  Validation Accuracy: 85.77%Loss: 0.5250  Validation Accuracy: 82.18%Loss: 0.5137  Validation Accuracy: 82.05%Loss: 0.4664  Validation Accuracy: 83.79%Loss: 0.4429  Validation Accuracy: 86.76%Loss: 0.4450  Validation Accuracy: 87.00%Loss: 0.5145  Validation Accuracy: 81.56%Loss: 0.4957  Validation Accuracy: 83.42%Loss: 0.4559  Validation Accuracy: 84.41%Loss: 0.4411  Validation Accuracy: 86.26%\r",
      "Epoch 40, CIFAR-10 Batch 5:  "
     ]
    },
    {
     "name": "stdout",
     "output_type": "stream",
     "text": [
      "Epoch 80, CIFAR-10 Batch 4:  racy: 87.25%Loss: 0.4838  Validation Accuracy: 84.28%Loss: 0.4951  Validation Accuracy: 83.54%Loss: 0.4570  Validation Accuracy: 84.78%Loss: 0.4302  Validation Accuracy: 86.76%Loss: 0.4373  Validation Accuracy: 86.76%Loss: 0.4770  Validation Accuracy: 83.91%Loss: 0.4752  Validation Accuracy: 83.79%Loss: 0.4729  Validation Accuracy: 84.78%Loss: 0.4350  Validation Accuracy: 85.64%Loss: 0.4305  Validation Accuracy: 87.50%Loss: 0.4728  Validation Accuracy: 84.03%Loss: 0.4784  Validation Accuracy: 83.54%Loss: 0.4708  Validation Accuracy: 84.78%Loss: 0.4164  Validation Accuracy: 88.00%Loss: 0.4218  Validation Accuracy: 86.88%Loss: 0.4563  Validation Accuracy: 85.52%Loss: 0.5047  Validation Accuracy: 83.42%Loss: 0.4703  Validation Accuracy: 85.15%Loss: 0.4068  Validation Accuracy: 88.12%Loss: 0.4128  Validation Accuracy: 86.51%Loss: 0.4592  Validation Accuracy: 85.27%Loss: 0.4776  Validation Accuracy: 84.28%Loss: 0.4432  Validation Accuracy: 86.51%Loss: 0.3990  Validation Accuracy: 87.75%Loss: 0.3855  Validation Accuracy: 88.86%Loss: 0.4424  Validation Accuracy: 86.14%Loss: 0.4393  Validation Accuracy: 85.89%Loss: 0.4486  Validation Accuracy: 85.89%Loss: 0.3825  Validation Accuracy: 88.37%Loss: 0.3795  Validation Accuracy: 89.85%Loss: 0.4255  Validation Accuracy: 86.76%Loss: 0.4475  Validation Accuracy: 85.52%Loss: 0.4392  Validation Accuracy: 85.52%Loss: 0.3830  Validation Accuracy: 89.11%Loss: 0.3795  Validation Accuracy: 89.11%Loss: 0.4038  Validation Accuracy: 86.63%Loss: 0.4327  Validation Accuracy: 85.52%Loss: 0.4031  Validation Accuracy: 87.13%Loss: 0.3478  Validation Accuracy: 89.60%Loss: 0.3788  Validation Accuracy: 88.99%Loss: 0.3996  Validation Accuracy: 87.25%Loss: 0.4378  Validation Accuracy: 85.15%Loss: 0.4050  Validation Accuracy: 86.76%Loss: 0.3375  Validation Accuracy: 90.59%Loss: 0.3878  Validation Accuracy: 88.86%Loss: 0.4035  Validation Accuracy: 87.00%Loss: 0.4147  Validation Accuracy: 86.88%Loss: 0.4043  Validation Accuracy: 88.24%Loss: 0.3461  Validation Accuracy: 89.60%Loss: 0.3958  Validation Accuracy: 88.99%Loss: 0.3747  Validation Accuracy: 87.87%Loss: 0.4000  Validation Accuracy: 87.62%Loss: 0.3953  Validation Accuracy: 88.24%Loss: 0.3435  Validation Accuracy: 89.73%Loss: 0.3772  Validation Accuracy: 88.86%Loss: 0.3746  Validation Accuracy: 87.75%Loss: 0.4132  Validation Accuracy: 87.50%Loss: 0.3824  Validation Accuracy: 88.74%Loss: 0.3781  Validation Accuracy: 88.24%Loss: 0.3633  Validation Accuracy: 90.10%Loss: 0.3736  Validation Accuracy: 88.24%Loss: 0.3913  Validation Accuracy: 87.75%Loss: 0.3569  Validation Accuracy: 88.86%Loss: 0.3410  Validation Accuracy: 89.98%Loss: 0.3758  Validation Accuracy: 88.49%Loss: 0.3620  Validation Accuracy: 89.23%Loss: 0.3703  Validation Accuracy: 88.00%Loss: 0.3446  Validation Accuracy: 89.98%Loss: 0.3162  Validation Accuracy: 91.96%Loss: 0.3513  Validation Accuracy: 89.85%Loss: 0.3620  Validation Accuracy: 89.23%Loss: 0.3723  Validation Accuracy: 88.12%Loss: 0.3479  Validation Accuracy: 88.61%Loss: 0.3081  Validation Accuracy: 91.21%Loss: 0.3258  Validation Accuracy: 90.97%Loss: 0.3322  Validation Accuracy: 89.60%Loss: 0.3499  Validation Accuracy: 88.74%Loss: 0.3146  Validation Accuracy: 90.47%Loss: 0.2791  Validation Accuracy: 92.82%Loss: 0.3298  Validation Accuracy: 90.72%Loss: 0.3255  Validation Accuracy: 90.10%Loss: 0.3401  Validation Accuracy: 88.99%Loss: 0.3219  Validation Accuracy: 90.35%Loss: 0.2808  Validation Accuracy: 92.82%Loss: 0.3055  Validation Accuracy: 91.71%Loss: 0.3168  Validation Accuracy: 90.72%Loss: 0.3336  Validation Accuracy: 89.85%Loss: 0.3123  Validation Accuracy: 91.09%Loss: 0.2731  Validation Accuracy: 93.19%Loss: 0.3030  Validation Accuracy: 91.21%Loss: 0.2967  Validation Accuracy: 91.71%Loss: 0.3730  Validation Accuracy: 89.11%Loss: 0.2999  Validation Accuracy: 91.71%Loss: 0.2809  Validation Accuracy: 92.20%Loss: 0.3024  Validation Accuracy: 91.58%Loss: 0.3010  Validation Accuracy: 91.96%Loss: 0.3178  Validation Accuracy: 90.47%Loss: 0.3155  Validation Accuracy: 91.34%Loss: 0.3184  Validation Accuracy: 89.98%Loss: 0.3069  Validation Accuracy: 91.21%Loss: 0.3075  Validation Accuracy: 91.96%Loss: 0.3082  Validation Accuracy: 91.21%Loss: 0.3217  Validation Accuracy: 90.22%Loss: 0.2677  Validation Accuracy: 93.19%Loss: 0.3022  Validation Accuracy: 91.83%Loss: 0.3272  Validation Accuracy: 90.35%Loss: 0.3241  Validation Accuracy: 90.47%Loss: 0.3197  Validation Accuracy: 90.10%Loss: 0.2767  Validation Accuracy: 92.82%Loss: 0.3044  Validation Accuracy: 91.71%Loss: 0.3017  Validation Accuracy: 91.83%Loss: 0.3282  Validation Accuracy: 89.48%Loss: 0.3288  Validation Accuracy: 90.47%Loss: 0.2845  Validation Accuracy: 92.45%Loss: 0.3097  Validation Accuracy: 90.59%Loss: 0.3064  Validation Accuracy: 89.48%Loss: 0.3094  Validation Accuracy: 91.09%Loss: 0.2969  Validation Accuracy: 91.96%Loss: 0.2849  Validation Accuracy: 92.70%Loss: 0.2854  Validation Accuracy: 92.57%Loss: 0.3075  Validation Accuracy: 90.72%Loss: 0.3115  Validation Accuracy: 91.09%Loss: 0.2913  Validation Accuracy: 91.58%Loss: 0.2880  Validation Accuracy: 93.19%Loss: 0.2708  Validation Accuracy: 93.44%Loss: 0.2663  Validation Accuracy: 92.45%Loss: 0.3079  Validation Accuracy: 92.33%Loss: 0.2870  Validation Accuracy: 90.59%Loss: 0.2495  Validation Accuracy: 93.69%Loss: 0.2622  Validation Accuracy: 93.32%Loss: 0.2651  Validation Accuracy: 92.33%Loss: 0.2765  Validation Accuracy: 92.57%Loss: 0.2657  Validation Accuracy: 91.58%Loss: 0.2428  Validation Accuracy: 94.06%Loss: 0.2609  Validation Accuracy: 92.45%Loss: 0.2609  Validation Accuracy: 92.70%Loss: 0.2576  Validation Accuracy: 92.57%Loss: 0.2933  Validation Accuracy: 90.35%Loss: 0.2608  Validation Accuracy: 93.19%Loss: 0.2467  Validation Accuracy: 93.32%Loss: 0.2484  Validation Accuracy: 93.07%Loss: 0.2653  Validation Accuracy: 93.19%Loss: 0.2888  Validation Accuracy: 90.47%Loss: 0.2150  Validation Accuracy: 94.43%Loss: 0.2363  Validation Accuracy: 93.81%Loss: 0.2328  Validation Accuracy: 93.69%Loss: 0.2612  Validation Accuracy: 92.82%Loss: 0.2774  Validation Accuracy: 91.21%Loss: 0.1991  Validation Accuracy: 95.79%Loss: 0.2431  Validation Accuracy: 93.19%Loss: 0.2640  Validation Accuracy: 92.70%Loss: 0.2982  Validation Accuracy: 91.58%Loss: 0.2537  Validation Accuracy: 93.07%Loss: 0.2367  Validation Accuracy: 92.57%Loss: 0.2109  Validation Accuracy: 94.93%Loss: 0.2206  Validation Accuracy: 94.18%Loss: 0.2536  Validation Accuracy: 93.81%Loss: 0.2434  Validation Accuracy: 92.95%Loss: 0.2118  Validation Accuracy: 94.31%Loss: 0.2238  Validation Accuracy: 94.06%Loss: 0.2055  Validation Accuracy: 95.05%Loss: 0.2448  Validation Accuracy: 93.32%Loss: 0.2355  Validation Accuracy: 93.32%Loss: 0.1923  Validation Accuracy: 95.30%Loss: 0.2075  Validation Accuracy: 94.68%Loss: 0.1871  Validation Accuracy: 95.92%Loss: 0.2395  Validation Accuracy: 93.19%Loss: 0.2264  Validation Accuracy: 93.56%Loss: 0.1829  Validation Accuracy: 95.92%Loss: 0.1958  Validation Accuracy: 95.42%Loss: 0.1930  Validation Accuracy: 95.17%Loss: 0.2320  Validation Accuracy: 93.94%Loss: 0.2166  Validation Accuracy: 94.06%Loss: 0.1922  Validation Accuracy: 95.54%Loss: 0.1983  Validation Accuracy: 94.93%Loss: 0.1802  Validation Accuracy: 96.29%Loss: 0.2511  Validation Accuracy: 93.19%Loss: 0.2106  Validation Accuracy: 95.05%Loss: 0.2295  Validation Accuracy: 93.44%Loss: 0.2085  Validation Accuracy: 94.43%Loss: 0.1918  Validation Accuracy: 95.17%Loss: 0.2249  Validation Accuracy: 94.18%Loss: 0.2275  Validation Accuracy: 93.81%Loss: 0.1928  Validation Accuracy: 95.54%Loss: 0.2122  Validation Accuracy: 94.93%Loss: 0.1996  Validation Accuracy: 93.69%Loss: 0.2323  Validation Accuracy: 94.68%Loss: 0.2128  Validation Accuracy: 94.68%Loss: 0.2063  Validation Accuracy: 94.31%Loss: 0.2086  Validation Accuracy: 94.68%Loss: 0.2031  Validation Accuracy: 94.31%Loss: 0.2101  Validation Accuracy: 94.55%Loss: 0.1946  Validation Accuracy: 94.80%Loss: 0.1687  Validation Accuracy: 96.53%Loss: 0.1943  Validation Accuracy: 95.30%Loss: 0.2012  Validation Accuracy: 94.55%Loss: 0.2124  Validation Accuracy: 94.68%Loss: 0.1914  Validation Accuracy: 94.93%Loss: 0.1731  Validation Accuracy: 95.79%\r"
     ]
    },
    {
     "name": "stdout",
     "output_type": "stream",
     "text": [
      "Epoch 100, CIFAR-10 Batch 5:  oss: 0.1868  Validation Accuracy: 95.54%Loss: 0.1937  Validation Accuracy: 95.17%Loss: 0.2207  Validation Accuracy: 94.31%Loss: 0.1959  Validation Accuracy: 95.17%Loss: 0.1682  Validation Accuracy: 96.29%Loss: 0.1884  Validation Accuracy: 95.05%Loss: 0.1827  Validation Accuracy: 95.30%Loss: 0.2057  Validation Accuracy: 94.93%Loss: 0.1992  Validation Accuracy: 94.43%Loss: 0.1520  Validation Accuracy: 97.77%Loss: 0.1890  Validation Accuracy: 94.93%Loss: 0.1851  Validation Accuracy: 95.67%Loss: 0.1955  Validation Accuracy: 95.17%Loss: 0.2194  Validation Accuracy: 92.95%Loss: 0.1639  Validation Accuracy: 96.66%Loss: 0.1698  Validation Accuracy: 95.79%Loss: 0.1619  Validation Accuracy: 96.91%Loss: 0.2175  Validation Accuracy: 94.43%Loss: 0.1962  Validation Accuracy: 94.31%Loss: 0.1849  Validation Accuracy: 95.54%Loss: 0.1984  Validation Accuracy: 95.30%Loss: 0.1743  Validation Accuracy: 96.16%Loss: 0.2052  Validation Accuracy: 94.80%Loss: 0.1781  Validation Accuracy: 95.05%Loss: 0.1793  Validation Accuracy: 96.41%Loss: 0.2052  Validation Accuracy: 94.80%Loss: 0.1835  Validation Accuracy: 96.04%Loss: 0.1837  Validation Accuracy: 95.30%Loss: 0.1633  Validation Accuracy: 95.92%Loss: 0.1873  Validation Accuracy: 96.04%Loss: 0.2227  Validation Accuracy: 94.31%Loss: 0.1801  Validation Accuracy: 96.29%Loss: 0.1736  Validation Accuracy: 95.54%Loss: 0.1700  Validation Accuracy: 95.79%Loss: 0.1622  Validation Accuracy: 96.91%Loss: 0.2247  Validation Accuracy: 93.19%Loss: 0.1971  Validation Accuracy: 96.16%Loss: 0.1779  Validation Accuracy: 95.67%Loss: 0.1689  Validation Accuracy: 96.53%Loss: 0.1663  Validation Accuracy: 96.41%Loss: 0.2021  Validation Accuracy: 93.69%Loss: 0.1943  Validation Accuracy: 96.53%Loss: 0.1722  Validation Accuracy: 96.29%Loss: 0.1878  Validation Accuracy: 95.67%Loss: 0.1679  Validation Accuracy: 96.78%Loss: 0.1812  Validation Accuracy: 94.43%Loss: 0.2184  Validation Accuracy: 94.55%Loss: 0.1824  Validation Accuracy: 96.16%Loss: 0.1695  Validation Accuracy: 96.29%Loss: 0.1394  Validation Accuracy: 97.03%Loss: 0.1744  Validation Accuracy: 95.54%Loss: 0.2161  Validation Accuracy: 93.94%Loss: 0.1597  Validation Accuracy: 96.16%Loss: 0.1896  Validation Accuracy: 95.42%Loss: 0.1274  Validation Accuracy: 97.03%Loss: 0.1938  Validation Accuracy: 94.31%Loss: 0.1716  Validation Accuracy: 96.53%Loss: 0.1609  Validation Accuracy: 96.04%Loss: 0.1612  Validation Accuracy: 96.16%Loss: 0.1244  Validation Accuracy: 97.65%Loss: 0.1865  Validation Accuracy: 94.80%Loss: 0.1818  Validation Accuracy: 95.92%Loss: 0.1585  Validation Accuracy: 95.92%Loss: 0.1555  Validation Accuracy: 96.91%Loss: 0.1186  Validation Accuracy: 97.90%Loss: 0.1647  Validation Accuracy: 95.92%Loss: 0.1449  Validation Accuracy: 97.28%Loss: 0.1576  Validation Accuracy: 96.29%Loss: 0.1671  Validation Accuracy: 96.29%Loss: 0.1286  Validation Accuracy: 98.27%Loss: 0.1749  Validation Accuracy: 95.30%Loss: 0.1800  Validation Accuracy: 95.54%Loss: 0.1764  Validation Accuracy: 94.55%Loss: 0.1766  Validation Accuracy: 94.55%Loss: 0.1369  Validation Accuracy: 96.78%Loss: 0.1491  Validation Accuracy: 97.03%Loss: 0.1929  Validation Accuracy: 93.56%Loss: 0.1882  Validation Accuracy: 95.79%Loss: 0.1777  Validation Accuracy: 96.53%Loss: 0.1536  Validation Accuracy: 96.04%Loss: 0.1542  Validation Accuracy: 96.29%Loss: 0.1882  Validation Accuracy: 94.55%Loss: 0.1647  Validation Accuracy: 96.04%Loss: 0.1783  Validation Accuracy: 95.17%Loss: 0.1318  Validation Accuracy: 96.78%Loss: 0.1384  Validation Accuracy: 96.53%Loss: 0.1566  Validation Accuracy: 94.93%Loss: 0.1571  Validation Accuracy: 96.16%Loss: 0.1655  Validation Accuracy: 96.29%Loss: 0.1285  Validation Accuracy: 96.66%Loss: 0.1295  Validation Accuracy: 97.28%Loss: 0.1473  Validation Accuracy: 96.16%Loss: 0.1835  Validation Accuracy: 94.55%Loss: 0.1853  Validation Accuracy: 95.17%Loss: 0.1283  Validation Accuracy: 96.66%Loss: 0.1383  Validation Accuracy: 96.78%Loss: 0.1309  Validation Accuracy: 97.77%Loss: 0.1845  Validation Accuracy: 94.43%Loss: 0.1634  Validation Accuracy: 96.16%Loss: 0.1036  Validation Accuracy: 98.02%Loss: 0.1265  Validation Accuracy: 97.03%\r"
     ]
    }
   ],
   "source": [
    "\"\"\"\n",
    "DON'T MODIFY ANYTHING IN THIS CELL\n",
    "\"\"\"\n",
    "save_model_path = './image_classification'\n",
    "\n",
    "print('Training...')\n",
    "with tf.Session() as sess:\n",
    "    # Initializing the variables\n",
    "    sess.run(tf.global_variables_initializer())\n",
    "    \n",
    "    # Training cycle\n",
    "    for epoch in range(epochs):\n",
    "        # Loop over all batches\n",
    "        n_batches = 5\n",
    "        for batch_i in range(1, n_batches + 1):\n",
    "            for batch_features, batch_labels in helper.load_preprocess_training_batch(batch_i, batch_size):\n",
    "                train_neural_network(sess, optimizer, keep_probability, batch_features, batch_labels)\n",
    "            print('Epoch {:>2}, CIFAR-10 Batch {}:  '.format(epoch + 1, batch_i), end='')\n",
    "            print_stats(sess, batch_features, batch_labels, cost, accuracy)\n",
    "            \n",
    "    # Save Model\n",
    "    saver = tf.train.Saver()\n",
    "    save_path = saver.save(sess, save_model_path)"
   ]
  },
  {
   "cell_type": "markdown",
   "metadata": {},
   "source": [
    "# Checkpoint\n",
    "The model has been saved to disk.\n",
    "## Test Model\n",
    "Test your model against the test dataset.  This will be your final accuracy. You should have an accuracy greater than 50%. If you don't, keep tweaking the model architecture and parameters."
   ]
  },
  {
   "cell_type": "code",
   "execution_count": 19,
   "metadata": {},
   "outputs": [
    {
     "name": "stdout",
     "output_type": "stream",
     "text": [
      "INFO:tensorflow:Restoring parameters from ./image_classification\n",
      "Testing Accuracy: 0.6736288249492646\n",
      "\n"
     ]
    },
    {
     "data": {
      "image/png": "[encoded data removed]",
      "text/plain": [
       "<matplotlib.figure.Figure at 0x7f2f4c1ec278>"
      ]
     },
     "metadata": {
      "image/png": {
       "height": 319,
       "width": 355
      }
     },
     "output_type": "display_data"
    }
   ],
   "source": [
    "\"\"\"\n",
    "DON'T MODIFY ANYTHING IN THIS CELL\n",
    "\"\"\"\n",
    "%matplotlib inline\n",
    "%config InlineBackend.figure_format = 'retina'\n",
    "\n",
    "import tensorflow as tf\n",
    "import pickle\n",
    "import helper\n",
    "import random\n",
    "\n",
    "# Set batch size if not already set\n",
    "try:\n",
    "    if batch_size:\n",
    "        pass\n",
    "except NameError:\n",
    "    batch_size = 64\n",
    "\n",
    "save_model_path = './image_classification'\n",
    "n_samples = 4\n",
    "top_n_predictions = 3\n",
    "\n",
    "def test_model():\n",
    "    \"\"\"\n",
    "    Test the saved model against the test dataset\n",
    "    \"\"\"\n",
    "\n",
    "    test_features, test_labels = pickle.load(open('preprocess_test.p', mode='rb'))\n",
    "    loaded_graph = tf.Graph()\n",
    "\n",
    "    with tf.Session(graph=loaded_graph) as sess:\n",
    "        # Load model\n",
    "        loader = tf.train.import_meta_graph(save_model_path + '.meta')\n",
    "        loader.restore(sess, save_model_path)\n",
    "\n",
    "        # Get Tensors from loaded model\n",
    "        loaded_x = loaded_graph.get_tensor_by_name('x:0')\n",
    "        loaded_y = loaded_graph.get_tensor_by_name('y:0')\n",
    "        loaded_keep_prob = loaded_graph.get_tensor_by_name('keep_prob:0')\n",
    "        loaded_logits = loaded_graph.get_tensor_by_name('logits:0')\n",
    "        loaded_acc = loaded_graph.get_tensor_by_name('accuracy:0')\n",
    "        \n",
    "        # Get accuracy in batches for memory limitations\n",
    "        test_batch_acc_total = 0\n",
    "        test_batch_count = 0\n",
    "        \n",
    "        for test_feature_batch, test_label_batch in helper.batch_features_labels(test_features, test_labels, batch_size):\n",
    "            test_batch_acc_total += sess.run(\n",
    "                loaded_acc,\n",
    "                feed_dict={loaded_x: test_feature_batch, loaded_y: test_label_batch, loaded_keep_prob: 1.0})\n",
    "            test_batch_count += 1\n",
    "\n",
    "        print('Testing Accuracy: {}\\n'.format(test_batch_acc_total/test_batch_count))\n",
    "\n",
    "        # Print Random Samples\n",
    "        random_test_features, random_test_labels = tuple(zip(*random.sample(list(zip(test_features, test_labels)), n_samples)))\n",
    "        random_test_predictions = sess.run(\n",
    "            tf.nn.top_k(tf.nn.softmax(loaded_logits), top_n_predictions),\n",
    "            feed_dict={loaded_x: random_test_features, loaded_y: random_test_labels, loaded_keep_prob: 1.0})\n",
    "        helper.display_image_predictions(random_test_features, random_test_labels, random_test_predictions)\n",
    "\n",
    "\n",
    "test_model()"
   ]
  },
  {
   "cell_type": "markdown",
   "metadata": {},
   "source": [
    "## Why 50-80% Accuracy?\n",
    "You might be wondering why you can't get an accuracy any higher. First things first, 50% isn't bad for a simple CNN.  Pure guessing would get you 10% accuracy. However, you might notice people are getting scores [well above 80%](http://rodrigob.github.io/are_we_there_yet/build/classification_datasets_results.html#43494641522d3130).  That's because we haven't taught you all there is to know about neural networks. We still need to cover a few more techniques.\n",
    "## Submitting This Project\n",
    "When submitting this project, make sure to run all the cells before saving the notebook.  Save the notebook file as \"dlnd_image_classification.ipynb\" and save it as a HTML file under \"File\" -> \"Download as\".  Include the \"helper.py\" and \"problem_unittests.py\" files in your submission."
   ]
  }
 ],
 "metadata": {
  "kernelspec": {
   "display_name": "Python 3",
   "language": "python",
   "name": "python3"
  },
  "language_info": {
   "codemirror_mode": {
    "name": "ipython",
    "version": 3
   },
   "file_extension": ".py",
   "mimetype": "text/x-python",
   "name": "python",
   "nbconvert_exporter": "python",
   "pygments_lexer": "ipython3",
   "version": "3.6.3"
  }
 },
 "nbformat": 4,
 "nbformat_minor": 1
}
